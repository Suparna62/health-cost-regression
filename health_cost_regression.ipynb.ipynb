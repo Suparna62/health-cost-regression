{
  "nbformat": 4,
  "nbformat_minor": 0,
  "metadata": {
    "colab": {
      "provenance": []
    },
    "kernelspec": {
      "name": "python3",
      "display_name": "Python 3"
    },
    "language_info": {
      "name": "python"
    }
  },
  "cells": [
    {
      "cell_type": "code",
      "execution_count": null,
      "metadata": {
        "id": "kkD5XInqmoQ7"
      },
      "outputs": [],
      "source": [
        "import pandas as pd\n",
        "import tensorflow as tf\n",
        "from sklearn.model_selection import train_test_split\n",
        "from sklearn.preprocessing import LabelEncoder\n",
        "import matplotlib.pyplot as plt\n",
        "\n",
        "# Load dataset\n",
        "url = 'https://raw.githubusercontent.com/stedy/Machine-Learning-with-R-datasets/master/insurance.csv'\n",
        "df = pd.read_csv(url)\n",
        "df.head()\n"
      ]
    },
    {
      "cell_type": "code",
      "source": [
        "le_sex = LabelEncoder()\n",
        "le_smoker = LabelEncoder()\n",
        "le_region = LabelEncoder()\n",
        "\n",
        "df['sex'] = le_sex.fit_transform(df['sex'])\n",
        "df['smoker'] = le_smoker.fit_transform(df['smoker'])\n",
        "df['region'] = le_region.fit_transform(df['region'])\n"
      ],
      "metadata": {
        "id": "vP2QWDh_mqZX"
      },
      "execution_count": null,
      "outputs": []
    },
    {
      "cell_type": "code",
      "source": [
        "train_dataset, test_dataset = train_test_split(df, test_size=0.2, random_state=42)\n",
        "train_labels = train_dataset.pop('expenses')\n",
        "test_labels = test_dataset.pop('expenses')\n"
      ],
      "metadata": {
        "id": "WLfHeYlgmsVT"
      },
      "execution_count": null,
      "outputs": []
    },
    {
      "cell_type": "code",
      "source": [
        "model = tf.keras.Sequential([\n",
        "    tf.keras.layers.Dense(64, activation='relu'),\n",
        "    tf.keras.layers.Dense(64, activation='relu'),\n",
        "    tf.keras.layers.Dense(1)\n",
        "])\n",
        "\n",
        "model.compile(optimizer='adam', loss='mae')\n"
      ],
      "metadata": {
        "id": "AaA5tmX2mup-"
      },
      "execution_count": null,
      "outputs": []
    },
    {
      "cell_type": "code",
      "source": [
        "history = model.fit(train_dataset, train_labels, epochs=100, validation_split=0.2, verbose=0)\n"
      ],
      "metadata": {
        "id": "7ozW_xS5myBF"
      },
      "execution_count": null,
      "outputs": []
    },
    {
      "cell_type": "code",
      "source": [
        "loss = model.evaluate(test_dataset, test_labels)\n",
        "print(\"Mean Absolute Error on test set:\", loss)\n",
        "\n",
        "# Predict and plot\n",
        "predictions = model.predict(test_dataset).flatten()\n",
        "\n",
        "plt.figure(figsize=(8, 6))\n",
        "plt.scatter(test_labels, predictions)\n",
        "plt.xlabel(\"True Values [$]\")\n",
        "plt.ylabel(\"Predictions [$]\")\n",
        "plt.title(\"Predicted vs Actual Medical Expenses\")\n",
        "plt.plot([0, 50000], [0, 50000])\n",
        "plt.show()\n"
      ],
      "metadata": {
        "id": "bOEtnYuYmy5V"
      },
      "execution_count": null,
      "outputs": []
    }
  ]
}